{
 "cells": [
  {
   "cell_type": "markdown",
   "metadata": {},
   "source": [
    "It reads the path CSV file, extracts locations, and then constructs an adjacency list"
   ]
  },
  {
   "cell_type": "code",
   "execution_count": 2,
   "metadata": {},
   "outputs": [
    {
     "data": {
      "text/plain": [
       "{'akansha': ['Ecopark', 'shrachi'],\n",
       " 'Biswa_Bangla': ['dlf2', 'jatragachi', 'Newtown Bus Stand'],\n",
       " 'cc1': ['Karunamoyee'],\n",
       " 'cc2': ['shrachi'],\n",
       " 'Coal India': ['College More', 'Newtown Bus Stand'],\n",
       " 'College More': ['Coal India', 'Karunamoyee'],\n",
       " 'dlf2': ['Biswa_Bangla', 'eco-space', 'uem'],\n",
       " 'eco-space': ['dlf2', 'Westin'],\n",
       " 'Ecopark': ['akansha', 'Westin'],\n",
       " 'jatragachi': ['Biswa_Bangla', 'Westin'],\n",
       " 'Karunamoyee': ['cc1', 'College More'],\n",
       " 'Newtown Bus Stand': ['Biswa_Bangla', 'Coal India'],\n",
       " 'shrachi': ['akansha', 'cc2'],\n",
       " 'uem': ['dlf2'],\n",
       " 'Westin': ['eco-space', 'Ecopark', 'jatragachi']}"
      ]
     },
     "execution_count": 2,
     "metadata": {},
     "output_type": "execute_result"
    }
   ],
   "source": [
    "import pandas as pd\n",
    "\n",
    "route_path=pd.read_csv('./path.csv')\n",
    "locations=route_path['location'].to_list()\n",
    "\n",
    "adjacency_list={}\n",
    "for l in locations:\n",
    "    data=route_path[l].to_list()\n",
    "    empty_list=[]\n",
    "    for i in range(len(data)):\n",
    "        if data[i]==1:\n",
    "            empty_list.append(locations[i])\n",
    "    adjacency_list[l]=empty_list\n",
    "adjacency_list"
   ]
  },
  {
   "cell_type": "markdown",
   "metadata": {},
   "source": [
    "This code loads data for the specific place from a CSV file, retrieves the next possible routes or places based on an adjacency list, and reads distance data from another CSV file."
   ]
  },
  {
   "cell_type": "code",
   "execution_count": 7,
   "metadata": {},
   "outputs": [
    {
     "data": {
      "text/plain": [
       "['cc1', 'College More']"
      ]
     },
     "execution_count": 7,
     "metadata": {},
     "output_type": "execute_result"
    }
   ],
   "source": [
    "place_name='Karunamoyee'\n",
    "place_df=pd.read_csv('./Dataset/'+place_name+'.csv') #we are loading the dataset of the place from where we are tring to find the overspeed\n",
    "\n",
    "places=adjacency_list[place_name] #It stores the next possible route or places\n",
    "distance=pd.read_csv('./Distance.csv') #to store the distance dataset\n",
    "\n",
    "places"
   ]
  },
  {
   "cell_type": "code",
   "execution_count": 8,
   "metadata": {},
   "outputs": [],
   "source": [
    "def find_loc(l,loc):\n",
    "    c=0\n",
    "    for i in loc:\n",
    "        if loc[i] == l:\n",
    "            return c\n",
    "        c=c+1\n",
    "    return c\n",
    "loc_labels={0: 'akansha',\n",
    " 1: 'Biswa_Bangla',\n",
    " 2: 'cc1',\n",
    " 3: 'cc2',\n",
    " 4: 'Coal India',\n",
    " 5: 'College More',\n",
    " 6: 'dlf2',\n",
    " 7: 'eco-space',\n",
    " 8: 'Ecopark',\n",
    " 9: 'jatragachi',\n",
    " 10: 'Karunamoyee',\n",
    " 11: 'Newtown Bus Stand',\n",
    " 12: 'shrachi',\n",
    " 13: 'uem',\n",
    " 14: 'Westin'}"
   ]
  },
  {
   "cell_type": "code",
   "execution_count": 9,
   "metadata": {},
   "outputs": [
    {
     "name": "stdout",
     "output_type": "stream",
     "text": [
      "cc1   WB03AB1234   48.0 km/h  13-08-2023\n",
      "cc1   WB08CD5678   48.0 km/h  13-08-2023\n",
      "cc1   WB09IJ7890   48.0 km/h  13-08-2023\n",
      "cc1   WB31BE3001   48.0 km/h  15-10-2023\n",
      "cc1   WB54AE4009   54.33962264150943 km/h  06-10-2023\n",
      "cc1   WB12BP2311   48.0 km/h  16-10-2023\n"
     ]
    }
   ],
   "source": [
    "#to check that someone is breaking the rule or not\n",
    "from datetime import datetime, timedelta\n",
    "\n",
    "rule_brk=[]\n",
    "\n",
    "for i in range(0,len(place_df)):\n",
    "    #print(place_df['Vehicle Number'][i],\" \",i)\n",
    "    veh_no=place_df['Vehicle Number'][i]\n",
    "    date=place_df['Date'][i]\n",
    "    time=place_df['Time'][i]\n",
    "    for plc in places:\n",
    "        df=pd.read_csv('./Dataset/'+plc+'.csv')\n",
    "        for srch in range(0,len(df)):\n",
    "            if veh_no==df['Vehicle Number'][srch] and datetime.strptime(date, \"%d-%m-%Y\")==datetime.strptime(df['Date'][srch], \"%d-%m-%Y\"):\n",
    "                if datetime.strptime(time, '%H:%M:%S') < datetime.strptime(df['Time'][srch], '%H:%M:%S'):\n",
    "                    dt1 = datetime.strptime(time, \"%H:%M:%S\")\n",
    "                    dt2 = datetime.strptime(df['Time'][srch], \"%H:%M:%S\")\n",
    "                    time_diff = dt2 - dt1\n",
    "                    hours_diff = time_diff.total_seconds() / 3600\n",
    "                    l=find_loc(plc,loc_labels)\n",
    "                    d=distance[place_name][l]\n",
    "                    s=d/hours_diff\n",
    "                    if s>30:\n",
    "                        print(plc,\" \",veh_no,\" \",s,\"km/h \",df['Date'][srch])\n",
    "                        rule_brk.append([veh_no,df['Date'][srch],'Overspeed',plc,time])\n",
    "    \n",
    "    "
   ]
  },
  {
   "cell_type": "code",
   "execution_count": 10,
   "metadata": {},
   "outputs": [
    {
     "data": {
      "text/plain": [
       "[['WB03AB1234', '13-08-2023', 'Overspeed', 'cc1', '10:47:22'],\n",
       " ['WB08CD5678', '13-08-2023', 'Overspeed', 'cc1', '16:22:58'],\n",
       " ['WB09IJ7890', '13-08-2023', 'Overspeed', 'cc1', '13:07:07'],\n",
       " ['WB31BE3001', '15-10-2023', 'Overspeed', 'cc1', '15:44:45'],\n",
       " ['WB54AE4009', '06-10-2023', 'Overspeed', 'cc1', '11:15:58'],\n",
       " ['WB12BP2311', '16-10-2023', 'Overspeed', 'cc1', '04:42:50']]"
      ]
     },
     "execution_count": 10,
     "metadata": {},
     "output_type": "execute_result"
    }
   ],
   "source": [
    "rule_brk"
   ]
  },
  {
   "cell_type": "code",
   "execution_count": 11,
   "metadata": {},
   "outputs": [],
   "source": [
    "#this module is use for uploading the data \n",
    "import csv\n",
    "for i in range(len(rule_brk)):\n",
    "    overspeed=pd.read_csv('./Overspeed.csv')\n",
    "    flag=-1\n",
    "    count=1\n",
    "    #it is checking if the vehicle is overspeeding in the same place at same date once or more\n",
    "    for j in range(len(overspeed)):\n",
    "        v_no=rule_brk[i][0]\n",
    "        date_no=rule_brk[i][1]\n",
    "        if v_no==overspeed['Vehicle Number'][j] and rule_brk[i][2]== overspeed['Fine Type'][j] and datetime.strptime(overspeed['Date'][j], \"%d-%m-%Y\")==datetime.strptime(date_no, \"%d-%m-%Y\"):\n",
    "            flag=j\n",
    "            count = overspeed['Count'][j] + 1\n",
    "    #It means that the car has broken the rule for first time\n",
    "    if flag==-1:\n",
    "        filename = './Overspeed.csv'\n",
    "        v_data =rule_brk[i][0]\n",
    "        d_data=rule_brk[i][1]\n",
    "        with open(filename, 'a', newline='') as file:\n",
    "            writer = csv.writer(file)\n",
    "            writer.writerow([v_data,d_data,rule_brk[i][4],count,rule_brk[i][3],rule_brk[i][2]])\n",
    "    else:\n",
    "        filename = './Overspeed.csv'\n",
    "        with open(filename, 'r') as file:\n",
    "            reader = csv.reader(file)\n",
    "            rows = list(reader)\n",
    "        rows[flag+1][3]=count\n",
    "        with open(filename, 'w', newline='') as file:\n",
    "            writer = csv.writer(file)\n",
    "            writer.writerows(rows)"
   ]
  },
  {
   "cell_type": "code",
   "execution_count": 12,
   "metadata": {},
   "outputs": [],
   "source": [
    "#Dictionary for fine\n",
    "\n",
    "fine={\n",
    "    'Overspeed': 500\n",
    "}"
   ]
  },
  {
   "cell_type": "markdown",
   "metadata": {},
   "source": [
    "This code establishes a connection to the Gmail SMTP server using the smtplib library, initiates a TLS connection for secure communication, and logs in using the provided sender email and password for authentication."
   ]
  },
  {
   "cell_type": "markdown",
   "metadata": {},
   "source": [
    "TLS stands for Transport Layer Security. It's a cryptographic protocol designed to provide secure communication over a computer network."
   ]
  },
  {
   "cell_type": "code",
   "execution_count": 13,
   "metadata": {},
   "outputs": [
    {
     "name": "stdout",
     "output_type": "stream",
     "text": [
      "Vehical Number:  WB03AB1234 \n",
      "Name:  Orion Finch \n",
      "Mobile No:  8765432109 \n",
      "Email:  sagnikb35@gmail.com\n",
      "E-mail sent\n",
      "Vehical Number:  WB08CD5678 \n",
      "Name:  Asher Wilde \n",
      "Mobile No:  6543210987 \n",
      "Email:  siddhanthkmr330@gmail.com\n",
      "E-mail sent\n",
      "Vehical Number:  WB09IJ7890 \n",
      "Name:  Kellan Frost \n",
      "Mobile No:  8769012345 \n",
      "Email:  sneharghasaha07@gmail.com\n",
      "E-mail sent\n",
      "Vehical Number:  WB31BE3001 \n",
      "Name:  Selene Twilight \n",
      "Mobile No:  6545678901 \n",
      "Email:  sahiladgikary25@gmail.com\n",
      "E-mail sent\n",
      "Vehical Number:  WB54AE4009 \n",
      "Name:  Zaina Nova \n",
      "Mobile No:  8767890125 \n",
      "Email:  sahiladgikary25@gmail.com\n",
      "E-mail sent\n",
      "Vehical Number:  WB12BP2311 \n",
      "Name:  Icarus Frost \n",
      "Mobile No:  6540123457 \n",
      "Email:  niladri.khan03@gmail.com\n",
      "E-mail sent\n"
     ]
    }
   ],
   "source": [
    "#To sending Emails.\n",
    "\n",
    "import smtplib\n",
    "details=pd.read_csv('./names.csv')\n",
    "sender_mail='anpr28project@gmail.com'\n",
    "sender_psswrd='avsgrfhmjritrdxg'\n",
    "for i in range(len(rule_brk)):\n",
    "    for det in range(0,len(details)):\n",
    "        if rule_brk[i][0]==details['Vehicle Number'][det]:\n",
    "            print(\"Vehical Number: \",details['Vehicle Number'][det],\n",
    "                  \"\\nName: \",details['Name'][det],\n",
    "                  \"\\nMobile No: \",details['Mobile'][det],\n",
    "                  \"\\nEmail: \",details['Email'][det])\n",
    "            \n",
    "            reciever_mail=details['Email'][det] #reciever mail address store\n",
    "            server = smtplib.SMTP('smtp.gmail.com',587) #Esablish connection\n",
    "            server.starttls()# Initiates TLS\n",
    "            server.login(sender_mail,sender_psswrd) #Authenticate credentials\n",
    "            message = f\"Subject: {rule_brk[i][2]} Alert\\n\\n\"\n",
    "            message += f\"Dear {details['Name'][det]},\\n\\n\"\n",
    "            message += f\"We regret to inform you that your vehicle with registration number {details['Vehicle Number'][det]} has been detected exceeding the speed limit at {rule_brk[i][4]}. This violation occurred at {rule_brk[i][3]}. As a consequence, a fine of Rs. {fine[rule_brk[i][2]]} has been charged to your account.\\n\\n\"\n",
    "            message += f\"We urge you to adhere to the specified speed limits for the safety of yourself and others on the road.\\n\\n\"\n",
    "            message += f\"Thank you for your cooperation.\"\n",
    "\n",
    "            server.sendmail(sender_mail,reciever_mail,message)\n",
    "            #print(message)\n",
    "            print('E-mail sent')"
   ]
  },
  {
   "cell_type": "code",
   "execution_count": 3,
   "metadata": {},
   "outputs": [
    {
     "data": {
      "text/plain": [
       "['cc1', 'Newtown Bus Stand', 'eco-space', 'uem', 'dlf2']"
      ]
     },
     "execution_count": 3,
     "metadata": {},
     "output_type": "execute_result"
    }
   ],
   "source": [
    "df = pd.read_csv(\"./Overspeed.csv\")\n",
    "\n",
    "df['Date'] = pd.to_datetime(df['Date'], format='%d-%m-%Y') #Converts to datetime format because the value is stored as string\n",
    "\n",
    "start_date = '2023-08-10'\n",
    "end_date = '2023-10-15'\n",
    "filtered_df = df[(df['Date'] >= start_date) & (df['Date'] <= end_date)]\n",
    "places_list = filtered_df['Place'].unique().tolist()\n",
    "places_list"
   ]
  },
  {
   "cell_type": "code",
   "execution_count": 4,
   "metadata": {},
   "outputs": [
    {
     "data": {
      "text/html": [
       "<div>\n",
       "<style scoped>\n",
       "    .dataframe tbody tr th:only-of-type {\n",
       "        vertical-align: middle;\n",
       "    }\n",
       "\n",
       "    .dataframe tbody tr th {\n",
       "        vertical-align: top;\n",
       "    }\n",
       "\n",
       "    .dataframe thead th {\n",
       "        text-align: right;\n",
       "    }\n",
       "</style>\n",
       "<table border=\"1\" class=\"dataframe\">\n",
       "  <thead>\n",
       "    <tr style=\"text-align: right;\">\n",
       "      <th></th>\n",
       "      <th>Vehicle Number</th>\n",
       "      <th>Date</th>\n",
       "      <th>Time</th>\n",
       "      <th>Count</th>\n",
       "      <th>Place</th>\n",
       "      <th>Fine Type</th>\n",
       "    </tr>\n",
       "  </thead>\n",
       "  <tbody>\n",
       "    <tr>\n",
       "      <th>0</th>\n",
       "      <td>WB03AB1234</td>\n",
       "      <td>2023-08-13</td>\n",
       "      <td>10:47:22</td>\n",
       "      <td>1</td>\n",
       "      <td>cc1</td>\n",
       "      <td>Overspeed</td>\n",
       "    </tr>\n",
       "    <tr>\n",
       "      <th>1</th>\n",
       "      <td>WB08CD5678</td>\n",
       "      <td>2023-08-13</td>\n",
       "      <td>16:22:58</td>\n",
       "      <td>1</td>\n",
       "      <td>cc1</td>\n",
       "      <td>Overspeed</td>\n",
       "    </tr>\n",
       "    <tr>\n",
       "      <th>2</th>\n",
       "      <td>WB09IJ7890</td>\n",
       "      <td>2023-08-13</td>\n",
       "      <td>13:07:07</td>\n",
       "      <td>1</td>\n",
       "      <td>cc1</td>\n",
       "      <td>Overspeed</td>\n",
       "    </tr>\n",
       "    <tr>\n",
       "      <th>3</th>\n",
       "      <td>WB31BE3001</td>\n",
       "      <td>2023-10-15</td>\n",
       "      <td>15:44:45</td>\n",
       "      <td>1</td>\n",
       "      <td>cc1</td>\n",
       "      <td>Overspeed</td>\n",
       "    </tr>\n",
       "    <tr>\n",
       "      <th>4</th>\n",
       "      <td>WB54AE4009</td>\n",
       "      <td>2023-10-06</td>\n",
       "      <td>11:15:58</td>\n",
       "      <td>1</td>\n",
       "      <td>cc1</td>\n",
       "      <td>Overspeed</td>\n",
       "    </tr>\n",
       "    <tr>\n",
       "      <th>6</th>\n",
       "      <td>WB78SE5678</td>\n",
       "      <td>2023-10-06</td>\n",
       "      <td>09:21:45</td>\n",
       "      <td>1</td>\n",
       "      <td>Newtown Bus Stand</td>\n",
       "      <td>Overspeed</td>\n",
       "    </tr>\n",
       "    <tr>\n",
       "      <th>7</th>\n",
       "      <td>WB38AH9293</td>\n",
       "      <td>2023-08-13</td>\n",
       "      <td>09:25:30</td>\n",
       "      <td>1</td>\n",
       "      <td>eco-space</td>\n",
       "      <td>Overspeed</td>\n",
       "    </tr>\n",
       "    <tr>\n",
       "      <th>8</th>\n",
       "      <td>WB22BF6712</td>\n",
       "      <td>2023-08-13</td>\n",
       "      <td>10:55:22</td>\n",
       "      <td>1</td>\n",
       "      <td>eco-space</td>\n",
       "      <td>Overspeed</td>\n",
       "    </tr>\n",
       "    <tr>\n",
       "      <th>9</th>\n",
       "      <td>WB14DT3987</td>\n",
       "      <td>2023-08-13</td>\n",
       "      <td>14:30:40</td>\n",
       "      <td>1</td>\n",
       "      <td>eco-space</td>\n",
       "      <td>Overspeed</td>\n",
       "    </tr>\n",
       "    <tr>\n",
       "      <th>10</th>\n",
       "      <td>WB09EP7465</td>\n",
       "      <td>2023-08-13</td>\n",
       "      <td>16:05:10</td>\n",
       "      <td>1</td>\n",
       "      <td>eco-space</td>\n",
       "      <td>Overspeed</td>\n",
       "    </tr>\n",
       "    <tr>\n",
       "      <th>11</th>\n",
       "      <td>WB60JB2023</td>\n",
       "      <td>2023-10-15</td>\n",
       "      <td>08:34:34</td>\n",
       "      <td>1</td>\n",
       "      <td>eco-space</td>\n",
       "      <td>Overspeed</td>\n",
       "    </tr>\n",
       "    <tr>\n",
       "      <th>12</th>\n",
       "      <td>WB65AU8002</td>\n",
       "      <td>2023-10-15</td>\n",
       "      <td>11:45:30</td>\n",
       "      <td>1</td>\n",
       "      <td>eco-space</td>\n",
       "      <td>Overspeed</td>\n",
       "    </tr>\n",
       "    <tr>\n",
       "      <th>13</th>\n",
       "      <td>WB56DQ5676</td>\n",
       "      <td>2023-10-06</td>\n",
       "      <td>23:25:56</td>\n",
       "      <td>1</td>\n",
       "      <td>eco-space</td>\n",
       "      <td>Overspeed</td>\n",
       "    </tr>\n",
       "    <tr>\n",
       "      <th>14</th>\n",
       "      <td>WB95BU4989</td>\n",
       "      <td>2023-10-09</td>\n",
       "      <td>09:31:34</td>\n",
       "      <td>1</td>\n",
       "      <td>eco-space</td>\n",
       "      <td>Overspeed</td>\n",
       "    </tr>\n",
       "    <tr>\n",
       "      <th>15</th>\n",
       "      <td>WB21BU2222</td>\n",
       "      <td>2023-10-11</td>\n",
       "      <td>09:28:39</td>\n",
       "      <td>1</td>\n",
       "      <td>uem</td>\n",
       "      <td>Overspeed</td>\n",
       "    </tr>\n",
       "    <tr>\n",
       "      <th>16</th>\n",
       "      <td>WB77WE1235</td>\n",
       "      <td>2023-10-12</td>\n",
       "      <td>09:25:55</td>\n",
       "      <td>1</td>\n",
       "      <td>eco-space</td>\n",
       "      <td>Overspeed</td>\n",
       "    </tr>\n",
       "    <tr>\n",
       "      <th>17</th>\n",
       "      <td>WB39FR3434</td>\n",
       "      <td>2023-10-12</td>\n",
       "      <td>13:18:22</td>\n",
       "      <td>2</td>\n",
       "      <td>eco-space</td>\n",
       "      <td>Overspeed</td>\n",
       "    </tr>\n",
       "    <tr>\n",
       "      <th>21</th>\n",
       "      <td>WB69FU6969</td>\n",
       "      <td>2023-10-15</td>\n",
       "      <td>13:26:12</td>\n",
       "      <td>1</td>\n",
       "      <td>dlf2</td>\n",
       "      <td>Overspeed</td>\n",
       "    </tr>\n",
       "    <tr>\n",
       "      <th>22</th>\n",
       "      <td>WB24AB3222</td>\n",
       "      <td>2023-10-15</td>\n",
       "      <td>19:30:37</td>\n",
       "      <td>1</td>\n",
       "      <td>dlf2</td>\n",
       "      <td>Overspeed</td>\n",
       "    </tr>\n",
       "    <tr>\n",
       "      <th>23</th>\n",
       "      <td>WB12CA9056</td>\n",
       "      <td>2023-10-15</td>\n",
       "      <td>12:05:10</td>\n",
       "      <td>1</td>\n",
       "      <td>dlf2</td>\n",
       "      <td>Overspeed</td>\n",
       "    </tr>\n",
       "    <tr>\n",
       "      <th>24</th>\n",
       "      <td>WB33IU8912</td>\n",
       "      <td>2023-10-12</td>\n",
       "      <td>10:02:56</td>\n",
       "      <td>1</td>\n",
       "      <td>dlf2</td>\n",
       "      <td>Overspeed</td>\n",
       "    </tr>\n",
       "    <tr>\n",
       "      <th>25</th>\n",
       "      <td>WB49ER4521</td>\n",
       "      <td>2023-10-12</td>\n",
       "      <td>14:21:22</td>\n",
       "      <td>1</td>\n",
       "      <td>dlf2</td>\n",
       "      <td>Overspeed</td>\n",
       "    </tr>\n",
       "  </tbody>\n",
       "</table>\n",
       "</div>"
      ],
      "text/plain": [
       "   Vehicle Number       Date      Time  Count              Place  Fine Type\n",
       "0      WB03AB1234 2023-08-13  10:47:22      1                cc1  Overspeed\n",
       "1      WB08CD5678 2023-08-13  16:22:58      1                cc1  Overspeed\n",
       "2      WB09IJ7890 2023-08-13  13:07:07      1                cc1  Overspeed\n",
       "3      WB31BE3001 2023-10-15  15:44:45      1                cc1  Overspeed\n",
       "4      WB54AE4009 2023-10-06  11:15:58      1                cc1  Overspeed\n",
       "6      WB78SE5678 2023-10-06  09:21:45      1  Newtown Bus Stand  Overspeed\n",
       "7      WB38AH9293 2023-08-13  09:25:30      1          eco-space  Overspeed\n",
       "8      WB22BF6712 2023-08-13  10:55:22      1          eco-space  Overspeed\n",
       "9      WB14DT3987 2023-08-13  14:30:40      1          eco-space  Overspeed\n",
       "10     WB09EP7465 2023-08-13  16:05:10      1          eco-space  Overspeed\n",
       "11     WB60JB2023 2023-10-15  08:34:34      1          eco-space  Overspeed\n",
       "12     WB65AU8002 2023-10-15  11:45:30      1          eco-space  Overspeed\n",
       "13     WB56DQ5676 2023-10-06  23:25:56      1          eco-space  Overspeed\n",
       "14     WB95BU4989 2023-10-09  09:31:34      1          eco-space  Overspeed\n",
       "15     WB21BU2222 2023-10-11  09:28:39      1                uem  Overspeed\n",
       "16     WB77WE1235 2023-10-12  09:25:55      1          eco-space  Overspeed\n",
       "17     WB39FR3434 2023-10-12  13:18:22      2          eco-space  Overspeed\n",
       "21     WB69FU6969 2023-10-15  13:26:12      1               dlf2  Overspeed\n",
       "22     WB24AB3222 2023-10-15  19:30:37      1               dlf2  Overspeed\n",
       "23     WB12CA9056 2023-10-15  12:05:10      1               dlf2  Overspeed\n",
       "24     WB33IU8912 2023-10-12  10:02:56      1               dlf2  Overspeed\n",
       "25     WB49ER4521 2023-10-12  14:21:22      1               dlf2  Overspeed"
      ]
     },
     "execution_count": 4,
     "metadata": {},
     "output_type": "execute_result"
    }
   ],
   "source": [
    "filtered_df"
   ]
  },
  {
   "cell_type": "code",
   "execution_count": 5,
   "metadata": {},
   "outputs": [
    {
     "data": {
      "text/plain": [
       "[5, 1, 11, 1, 5]"
      ]
     },
     "execution_count": 5,
     "metadata": {},
     "output_type": "execute_result"
    }
   ],
   "source": [
    "count = []\n",
    "for place in places_list:\n",
    "    cnt = 0\n",
    "    for index, row in filtered_df.iterrows():\n",
    "        if row['Place'] == place:\n",
    "            cnt += row['Count']\n",
    "    count.append(cnt)\n",
    "count"
   ]
  },
  {
   "cell_type": "code",
   "execution_count": 7,
   "metadata": {},
   "outputs": [
    {
     "data": {
      "image/png": "[encoded data removed]",
      "text/plain": [
       "<Figure size 700x500 with 1 Axes>"
      ]
     },
     "metadata": {},
     "output_type": "display_data"
    }
   ],
   "source": [
    "import matplotlib.pyplot as plt\n",
    "\n",
    "plt.figure(figsize=(7, 5)) #width and Height\n",
    "plt.bar(places_list, count, color='skyBlue') #x y\n",
    "\n",
    "plt.title(f'Number of Fines by Place\\n From {start_date} to {end_date}')\n",
    "plt.xlabel('Place')\n",
    "plt.ylabel('Number of Fines')\n",
    "\n",
    "plt.tight_layout()\n",
    "plt.show()"
   ]
  }
 ],
 "metadata": {
  "kernelspec": {
   "display_name": "Python 3",
   "language": "python",
   "name": "python3"
  },
  "language_info": {
   "codemirror_mode": {
    "name": "ipython",
    "version": 3
   },
   "file_extension": ".py",
   "mimetype": "text/x-python",
   "name": "python",
   "nbconvert_exporter": "python",
   "pygments_lexer": "ipython3",
   "version": "3.10.10"
  }
 },
 "nbformat": 4,
 "nbformat_minor": 2
}
